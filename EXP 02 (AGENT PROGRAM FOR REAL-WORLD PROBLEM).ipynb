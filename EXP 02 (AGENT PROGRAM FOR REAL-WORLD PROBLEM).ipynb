{
 "cells": [
  {
   "cell_type": "code",
   "execution_count": 1,
   "id": "a0e468ee",
   "metadata": {},
   "outputs": [
    {
     "name": "stdout",
     "output_type": "stream",
     "text": [
      "Coloring of graph 1:\n",
      "Vertex 0 ---> color 0\n",
      "Vertex 1 ---> color 1\n",
      "Vertex 2 ---> color 2\n",
      "Vertex 3 ---> color 0\n",
      "Vertex 4 ---> color 1\n",
      "-------------------------\n",
      "Coloring of graph 2:\n",
      "Vertex 0 ---> color 0\n",
      "Vertex 1 ---> color 1\n",
      "Vertex 2 ---> color 2\n",
      "Vertex 3 ---> color 0\n",
      "Vertex 4 ---> color 3\n"
     ]
    }
   ],
   "source": [
    "def addedge(adj,v,w):\n",
    "    adj[v].append(w)\n",
    "    adj[w].append(v)\n",
    "    return adj\n",
    "\n",
    "def color(adj,V):\n",
    "    result=[-1]*V\n",
    "    result[0]=0\n",
    "    available=[False]*V\n",
    "    \n",
    "    for u in range(1,V):\n",
    "        for i in adj[u]:\n",
    "            if(result[i]!=-1):\n",
    "                available[result[i]]=True\n",
    "                \n",
    "        cr=0\n",
    "        while cr<V:\n",
    "            if(available[cr]==False):\n",
    "                break\n",
    "            cr+=1\n",
    "        result[u]=cr\n",
    "        \n",
    "        for i in adj[u]:\n",
    "            if(result[i]!=-1):\n",
    "                available[result[i]]=False\n",
    "    \n",
    "    for u in range(V):\n",
    "        print(\"Vertex\",u,\"---> color\",result[u])\n",
    "        \n",
    "if __name__=='__main__':\n",
    "    g1=[[] for i in range(5)]\n",
    "    g1=addedge(g1,0,1)\n",
    "    g1=addedge(g1,0,2)\n",
    "    g1=addedge(g1,1,2)\n",
    "    g1=addedge(g1,1,3)\n",
    "    g1=addedge(g1,2,3)\n",
    "    g1=addedge(g1,3,4)\n",
    "    print(\"Coloring of graph 1:\")\n",
    "    color(g1,5)\n",
    "    \n",
    "    print(\"-------------------------\")\n",
    "    \n",
    "    g2=[[] for i in range(5)]\n",
    "    g2=addedge(g2,0,1)\n",
    "    g2=addedge(g2,0,2)\n",
    "    g2=addedge(g2,1,2)\n",
    "    g2=addedge(g2,1,4)\n",
    "    g2=addedge(g2,2,4)\n",
    "    g2=addedge(g2,4,3)\n",
    "    print(\"Coloring of graph 2:\")\n",
    "    color(g2,5)"
   ]
  },
  {
   "cell_type": "code",
   "execution_count": null,
   "id": "9948f77c",
   "metadata": {},
   "outputs": [],
   "source": []
  }
 ],
 "metadata": {
  "kernelspec": {
   "display_name": "Python 3 (ipykernel)",
   "language": "python",
   "name": "python3"
  },
  "language_info": {
   "codemirror_mode": {
    "name": "ipython",
    "version": 3
   },
   "file_extension": ".py",
   "mimetype": "text/x-python",
   "name": "python",
   "nbconvert_exporter": "python",
   "pygments_lexer": "ipython3",
   "version": "3.9.12"
  }
 },
 "nbformat": 4,
 "nbformat_minor": 5
}
